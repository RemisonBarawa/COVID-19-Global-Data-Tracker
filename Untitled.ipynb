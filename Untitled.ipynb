{
 "cells": [
  {
   "cell_type": "code",
   "execution_count": null,
   "id": "96d5c785-ad87-495c-8e25-8c13006a58e9",
   "metadata": {},
   "outputs": [],
   "source": [
    "import pandas as pd\n",
    "import matplotlib.pyplot as plt\n",
    "import seaborn as sns\n",
    "import plotly.express as px\n",
    "from datetime import datetime\n",
    "import uuid"
   ]
  },
  {
   "cell_type": "code",
   "execution_count": 2,
   "id": "99df9dfa-931f-4f54-8adb-ab908bcd1af1",
   "metadata": {},
   "outputs": [],
   "source": [
    "# Set style for visualizations\n",
    "plt.style.use('seaborn-v0_8')  # Updated to compatible style\n",
    "sns.set_palette(\"viridis\")"
   ]
  },
  {
   "cell_type": "code",
   "execution_count": null,
   "id": "5549149b-5d6f-4796-bc7e-c240608ca8b2",
   "metadata": {},
   "outputs": [],
   "source": [
    "# 1. Data Collection\n",
    "# Loading the Our World in Data COVID-19 dataset\n",
    "url = \"https://covid.ourworldindata.org/data/owid-covid-data.csv\"\n",
    "df = pd.read_csv(url)"
   ]
  },
  {
   "cell_type": "code",
   "execution_count": null,
   "id": "209e4637-0d83-47bf-b8b2-b3a14bf7bb0b",
   "metadata": {},
   "outputs": [],
   "source": [
    "# 2. Data Exploration\n",
    "print(\"Dataset Columns:\", df.columns.tolist())\n",
    "print(\"\\nFirst 5 Rows:\\n\", df.head())\n",
    "print(\"\\nMissing Values:\\n\", df.isnull().sum())"
   ]
  },
  {
   "cell_type": "code",
   "execution_count": null,
   "id": "541c195a-ba9d-4db5-96f3-dfb11388f9dd",
   "metadata": {},
   "outputs": [],
   "source": [
    "# 3. Data Cleaning\n",
    "# Convert date to datetime\n",
    "df['date'] = pd.to_datetime(df['date'])"
   ]
  },
  {
   "cell_type": "code",
   "execution_count": null,
   "id": "1ad784eb-8424-4fad-b031-2c1a1ca13563",
   "metadata": {},
   "outputs": [],
   "source": [
    "# Select countries of interest\n",
    "countries = ['Kenya', 'United States', 'India']\n",
    "df = df[df['location'].isin(countries)]"
   ]
  },
  {
   "cell_type": "code",
   "execution_count": null,
   "id": "a63ba44a-e6e9-4cab-8b59-a0b7a1d21990",
   "metadata": {},
   "outputs": [],
   "source": [
    "# Handle missing values\n",
    "df['total_cases'] = df['total_cases'].fillna(0)\n",
    "df['total_deaths'] = df['total_deaths'].fillna(0)\n",
    "df['new_cases'] = df['new_cases'].fillna(0)\n",
    "df['new_deaths'] = df['new_deaths'].fillna(0)\n",
    "df['total_vaccinations'] = df['total_vaccinations'].interpolate(method='linear', limit_direction='forward')"
   ]
  },
  {
   "cell_type": "code",
   "execution_count": null,
   "id": "3ac453a9-87d0-4a38-805a-4c94f5b5d6e1",
   "metadata": {},
   "outputs": [],
   "source": [
    "# 4. Exploratory Data Analysis\n",
    "# Plot total cases over time\n",
    "plt.figure(figsize=(12, 6))\n",
    "for country in countries:\n",
    "    country_data = df[df['location'] == country]\n",
    "    plt.plot(country_data['date'], country_data['total_cases'], label=country)\n",
    "plt.title('Total COVID-19 Cases Over Time')\n",
    "plt.xlabel('Date')\n",
    "plt.ylabel('Total Cases')\n",
    "plt.legend()\n",
    "plt.xticks(rotation=45)\n",
    "plt.tight_layout()\n",
    "plt.savefig('total_cases_over_time.png')\n",
    "plt.close()"
   ]
  },
  {
   "cell_type": "code",
   "execution_count": null,
   "id": "0e7976e9-c1ec-415e-bea2-ebb6b1df6763",
   "metadata": {},
   "outputs": [],
   "source": [
    "# Calculate death rate\n",
    "df['death_rate'] = df['total_deaths'] / df['total_cases'] * 100\n"
   ]
  },
  {
   "cell_type": "code",
   "execution_count": null,
   "id": "aed3debf-0393-4b6b-9d99-5e2d3dbe57f0",
   "metadata": {},
   "outputs": [],
   "source": [
    "# Bar chart for total cases by country (latest date)\n",
    "latest_date = df['date'].max()\n",
    "latest_data = df[df['date'] == latest_date]\n",
    "plt.figure(figsize=(10, 6))\n",
    "sns.barplot(x='location', y='total_cases', data=latest_data)\n",
    "plt.title(f'Total Cases by Country on {latest_date.date()}')\n",
    "plt.xlabel('Country')\n",
    "plt.ylabel('Total Cases')\n",
    "plt.tight_layout()\n",
    "plt.savefig('total_cases_bar.png')\n",
    "plt.close()\n"
   ]
  },
  {
   "cell_type": "code",
   "execution_count": null,
   "id": "87705b60-ce0b-4ce0-8e72-c03a61f10fe2",
   "metadata": {},
   "outputs": [],
   "source": [
    "# 5. Vaccination Progress\n",
    "# Plot cumulative vaccinations\n",
    "plt.figure(figsize=(12, 6))\n",
    "for country in countries:\n",
    "    country_data = df[df['location'] == country]\n",
    "    plt.plot(country_data['date'], country_data['total_vaccinations'], label=country)\n",
    "plt.title('Cumulative Vaccinations Over Time')\n",
    "plt.xlabel('Date')\n",
    "plt.ylabel('Total Vaccinations')\n",
    "plt.legend()\n",
    "plt.xticks(rotation=45)\n",
    "plt.tight_layout()\n",
    "plt.savefig('vaccinations_over_time.png')\n",
    "plt.close()"
   ]
  },
  {
   "cell_type": "code",
   "execution_count": null,
   "id": "745db79e-113f-4e78-bc6b-2d5398d3c368",
   "metadata": {},
   "outputs": [],
   "source": [
    "# 6. Choropleth Map\n",
    "# Prepare data for latest date\n",
    "choropleth_data = df[df['date'] == latest_date][['iso_code', 'location', 'total_cases', 'total_vaccinations']]\n",
    "fig = px.choropleth(\n",
    "    choropleth_data,\n",
    "    locations='iso_code',\n",
    "    color='total_cases',\n",
    "    hover_name='location',\n",
    "    color_continuous_scale=px.colors.sequential.Plasma,\n",
    "    title=f'Global COVID-19 Cases on {latest_date.date()}'\n",
    ")\n",
    "fig.write_to_file('choropleth_map.html')"
   ]
  },
  {
   "cell_type": "code",
   "execution_count": null,
   "id": "a4dee402-9574-4fb3-99b1-92d7ad912d89",
   "metadata": {},
   "outputs": [],
   "source": [
    "# 7. Insights\n",
    "insights = \"\"\"\n",
    "# Key Insights\n",
    "1. **Case Trends**: The United States shows the highest cumulative cases among the selected countries, with a steady increase over time.\n",
    "2. **Vaccination Rollout**: India has accelerated its vaccination campaign, surpassing Kenya in total vaccinations by mid-2021.\n",
    "3. **Death Rates**: Kenya exhibits a lower death rate compared to the United States, possibly due to differences in healthcare systems or reporting.\n",
    "4. **Anomalies**: Sudden spikes in new cases in India during early 2021 suggest a significant wave, likely the Delta variant.\n",
    "5. **Geographic Distribution**: The choropleth map highlights high case density in densely populated regions.\n",
    "\"\"\""
   ]
  },
  {
   "cell_type": "code",
   "execution_count": null,
   "id": "59a48215-b70f-466c-be52-958775593f5a",
   "metadata": {},
   "outputs": [],
   "source": [
    "# Save insights to markdown file\n",
    "with open('insights.md', 'w') as f:\n",
    "    f.write(insights)\n",
    "\n",
    "print(\"Analysis complete. Visualizations saved as PNGs, choropleth map as HTML, and insights as Markdown.\")"
   ]
  }
 ],
 "metadata": {
  "kernelspec": {
   "display_name": "Python 3 (ipykernel)",
   "language": "python",
   "name": "python3"
  },
  "language_info": {
   "codemirror_mode": {
    "name": "ipython",
    "version": 3
   },
   "file_extension": ".py",
   "mimetype": "text/x-python",
   "name": "python",
   "nbconvert_exporter": "python",
   "pygments_lexer": "ipython3",
   "version": "3.12.4"
  }
 },
 "nbformat": 4,
 "nbformat_minor": 5
}
